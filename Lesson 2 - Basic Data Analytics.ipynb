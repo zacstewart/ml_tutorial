{
 "cells": [
  {
   "cell_type": "code",
   "execution_count": 1,
   "metadata": {},
   "outputs": [],
   "source": [
    "import pandas as pd\n",
    "pd.options.display.float_format = '{:20,.2f}'.format"
   ]
  },
  {
   "cell_type": "code",
   "execution_count": 2,
   "metadata": {},
   "outputs": [],
   "source": [
    "data = pd.read_csv(\"Nashville_housing_data_2013_2016.csv\")"
   ]
  },
  {
   "cell_type": "code",
   "execution_count": 3,
   "metadata": {},
   "outputs": [
    {
     "data": {
      "text/html": [
       "<div>\n",
       "<style scoped>\n",
       "    .dataframe tbody tr th:only-of-type {\n",
       "        vertical-align: middle;\n",
       "    }\n",
       "\n",
       "    .dataframe tbody tr th {\n",
       "        vertical-align: top;\n",
       "    }\n",
       "\n",
       "    .dataframe thead th {\n",
       "        text-align: right;\n",
       "    }\n",
       "</style>\n",
       "<table border=\"1\" class=\"dataframe\">\n",
       "  <thead>\n",
       "    <tr style=\"text-align: right;\">\n",
       "      <th></th>\n",
       "      <th>Unnamed: 0</th>\n",
       "      <th>Unnamed: 0.1</th>\n",
       "      <th>Parcel ID</th>\n",
       "      <th>Land Use</th>\n",
       "      <th>Property Address</th>\n",
       "      <th>Suite/ Condo   #</th>\n",
       "      <th>Property City</th>\n",
       "      <th>Sale Date</th>\n",
       "      <th>Sale Price</th>\n",
       "      <th>Legal Reference</th>\n",
       "      <th>...</th>\n",
       "      <th>Building Value</th>\n",
       "      <th>Total Value</th>\n",
       "      <th>Finished Area</th>\n",
       "      <th>Foundation Type</th>\n",
       "      <th>Year Built</th>\n",
       "      <th>Exterior Wall</th>\n",
       "      <th>Grade</th>\n",
       "      <th>Bedrooms</th>\n",
       "      <th>Full Bath</th>\n",
       "      <th>Half Bath</th>\n",
       "    </tr>\n",
       "  </thead>\n",
       "  <tbody>\n",
       "    <tr>\n",
       "      <th>0</th>\n",
       "      <td>0</td>\n",
       "      <td>0</td>\n",
       "      <td>105 03 0D 008.00</td>\n",
       "      <td>RESIDENTIAL CONDO</td>\n",
       "      <td>1208  3RD AVE S</td>\n",
       "      <td>8</td>\n",
       "      <td>NASHVILLE</td>\n",
       "      <td>2013-01-24</td>\n",
       "      <td>132000</td>\n",
       "      <td>20130128-0008725</td>\n",
       "      <td>...</td>\n",
       "      <td>NaN</td>\n",
       "      <td>NaN</td>\n",
       "      <td>NaN</td>\n",
       "      <td>NaN</td>\n",
       "      <td>NaN</td>\n",
       "      <td>NaN</td>\n",
       "      <td>NaN</td>\n",
       "      <td>NaN</td>\n",
       "      <td>NaN</td>\n",
       "      <td>NaN</td>\n",
       "    </tr>\n",
       "    <tr>\n",
       "      <th>1</th>\n",
       "      <td>1</td>\n",
       "      <td>1</td>\n",
       "      <td>105 11 0 080.00</td>\n",
       "      <td>SINGLE FAMILY</td>\n",
       "      <td>1802  STEWART PL</td>\n",
       "      <td>NaN</td>\n",
       "      <td>NASHVILLE</td>\n",
       "      <td>2013-01-11</td>\n",
       "      <td>191500</td>\n",
       "      <td>20130118-0006337</td>\n",
       "      <td>...</td>\n",
       "      <td>134400.0</td>\n",
       "      <td>168300.0</td>\n",
       "      <td>1149.00000</td>\n",
       "      <td>PT BSMT</td>\n",
       "      <td>1941.0</td>\n",
       "      <td>BRICK</td>\n",
       "      <td>C</td>\n",
       "      <td>2.0</td>\n",
       "      <td>1.0</td>\n",
       "      <td>0.0</td>\n",
       "    </tr>\n",
       "    <tr>\n",
       "      <th>2</th>\n",
       "      <td>2</td>\n",
       "      <td>2</td>\n",
       "      <td>118 03 0 130.00</td>\n",
       "      <td>SINGLE FAMILY</td>\n",
       "      <td>2761  ROSEDALE PL</td>\n",
       "      <td>NaN</td>\n",
       "      <td>NASHVILLE</td>\n",
       "      <td>2013-01-18</td>\n",
       "      <td>202000</td>\n",
       "      <td>20130124-0008033</td>\n",
       "      <td>...</td>\n",
       "      <td>157800.0</td>\n",
       "      <td>191800.0</td>\n",
       "      <td>2090.82495</td>\n",
       "      <td>SLAB</td>\n",
       "      <td>2000.0</td>\n",
       "      <td>BRICK/FRAME</td>\n",
       "      <td>C</td>\n",
       "      <td>3.0</td>\n",
       "      <td>2.0</td>\n",
       "      <td>1.0</td>\n",
       "    </tr>\n",
       "    <tr>\n",
       "      <th>3</th>\n",
       "      <td>3</td>\n",
       "      <td>3</td>\n",
       "      <td>119 01 0 479.00</td>\n",
       "      <td>SINGLE FAMILY</td>\n",
       "      <td>224  PEACHTREE ST</td>\n",
       "      <td>NaN</td>\n",
       "      <td>NASHVILLE</td>\n",
       "      <td>2013-01-18</td>\n",
       "      <td>32000</td>\n",
       "      <td>20130128-0008863</td>\n",
       "      <td>...</td>\n",
       "      <td>243700.0</td>\n",
       "      <td>268700.0</td>\n",
       "      <td>2145.60001</td>\n",
       "      <td>FULL BSMT</td>\n",
       "      <td>1948.0</td>\n",
       "      <td>BRICK/FRAME</td>\n",
       "      <td>B</td>\n",
       "      <td>4.0</td>\n",
       "      <td>2.0</td>\n",
       "      <td>0.0</td>\n",
       "    </tr>\n",
       "    <tr>\n",
       "      <th>4</th>\n",
       "      <td>4</td>\n",
       "      <td>4</td>\n",
       "      <td>119 05 0 186.00</td>\n",
       "      <td>SINGLE FAMILY</td>\n",
       "      <td>316  LUTIE ST</td>\n",
       "      <td>NaN</td>\n",
       "      <td>NASHVILLE</td>\n",
       "      <td>2013-01-23</td>\n",
       "      <td>102000</td>\n",
       "      <td>20130131-0009929</td>\n",
       "      <td>...</td>\n",
       "      <td>138100.0</td>\n",
       "      <td>164800.0</td>\n",
       "      <td>1969.00000</td>\n",
       "      <td>CRAWL</td>\n",
       "      <td>1910.0</td>\n",
       "      <td>FRAME</td>\n",
       "      <td>C</td>\n",
       "      <td>2.0</td>\n",
       "      <td>1.0</td>\n",
       "      <td>0.0</td>\n",
       "    </tr>\n",
       "  </tbody>\n",
       "</table>\n",
       "<p>5 rows × 31 columns</p>\n",
       "</div>"
      ],
      "text/plain": [
       "   Unnamed: 0  Unnamed: 0.1         Parcel ID           Land Use  \\\n",
       "0           0             0  105 03 0D 008.00  RESIDENTIAL CONDO   \n",
       "1           1             1   105 11 0 080.00      SINGLE FAMILY   \n",
       "2           2             2   118 03 0 130.00      SINGLE FAMILY   \n",
       "3           3             3   119 01 0 479.00      SINGLE FAMILY   \n",
       "4           4             4   119 05 0 186.00      SINGLE FAMILY   \n",
       "\n",
       "    Property Address Suite/ Condo   # Property City   Sale Date  Sale Price  \\\n",
       "0    1208  3RD AVE S                8     NASHVILLE  2013-01-24      132000   \n",
       "1   1802  STEWART PL              NaN     NASHVILLE  2013-01-11      191500   \n",
       "2  2761  ROSEDALE PL              NaN     NASHVILLE  2013-01-18      202000   \n",
       "3  224  PEACHTREE ST              NaN     NASHVILLE  2013-01-18       32000   \n",
       "4      316  LUTIE ST              NaN     NASHVILLE  2013-01-23      102000   \n",
       "\n",
       "    Legal Reference  ... Building Value Total Value Finished Area  \\\n",
       "0  20130128-0008725  ...            NaN         NaN           NaN   \n",
       "1  20130118-0006337  ...       134400.0    168300.0    1149.00000   \n",
       "2  20130124-0008033  ...       157800.0    191800.0    2090.82495   \n",
       "3  20130128-0008863  ...       243700.0    268700.0    2145.60001   \n",
       "4  20130131-0009929  ...       138100.0    164800.0    1969.00000   \n",
       "\n",
       "  Foundation Type Year Built Exterior Wall  Grade Bedrooms  Full Bath  \\\n",
       "0             NaN        NaN           NaN    NaN      NaN        NaN   \n",
       "1         PT BSMT     1941.0         BRICK   C         2.0        1.0   \n",
       "2            SLAB     2000.0   BRICK/FRAME   C         3.0        2.0   \n",
       "3       FULL BSMT     1948.0   BRICK/FRAME   B         4.0        2.0   \n",
       "4           CRAWL     1910.0         FRAME   C         2.0        1.0   \n",
       "\n",
       "  Half Bath  \n",
       "0       NaN  \n",
       "1       0.0  \n",
       "2       1.0  \n",
       "3       0.0  \n",
       "4       0.0  \n",
       "\n",
       "[5 rows x 31 columns]"
      ]
     },
     "execution_count": 3,
     "metadata": {},
     "output_type": "execute_result"
    }
   ],
   "source": [
    "data.head()"
   ]
  },
  {
   "cell_type": "code",
   "execution_count": 5,
   "metadata": {},
   "outputs": [
    {
     "data": {
      "text/plain": [
       "3.0900285607848006"
      ]
     },
     "execution_count": 5,
     "metadata": {},
     "output_type": "execute_result"
    }
   ],
   "source": [
    "data['Bedrooms'].mean()"
   ]
  },
  {
   "cell_type": "code",
   "execution_count": 11,
   "metadata": {},
   "outputs": [
    {
     "data": {
      "text/plain": [
       "<matplotlib.axes._subplots.AxesSubplot at 0x12ba1b190>"
      ]
     },
     "execution_count": 11,
     "metadata": {},
     "output_type": "execute_result"
    },
    {
     "data": {
      "image/png": "[encoded data removed]",
      "text/plain": [
       "<Figure size 432x288 with 1 Axes>"
      ]
     },
     "metadata": {
      "needs_background": "light"
     },
     "output_type": "display_data"
    }
   ],
   "source": [
    "data.plot.scatter(x='Bedrooms', y='Sale Price', alpha=.1)"
   ]
  },
  {
   "cell_type": "code",
   "execution_count": null,
   "metadata": {},
   "outputs": [],
   "source": []
  }
 ],
 "metadata": {
  "kernelspec": {
   "display_name": "Python 3",
   "language": "python",
   "name": "python3"
  },
  "language_info": {
   "codemirror_mode": {
    "name": "ipython",
    "version": 3
   },
   "file_extension": ".py",
   "mimetype": "text/x-python",
   "name": "python",
   "nbconvert_exporter": "python",
   "pygments_lexer": "ipython3",
   "version": "3.7.6"
  }
 },
 "nbformat": 4,
 "nbformat_minor": 4
}
